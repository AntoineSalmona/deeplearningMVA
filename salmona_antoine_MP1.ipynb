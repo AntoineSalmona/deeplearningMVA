{
 "cells": [
  {
   "cell_type": "markdown",
   "metadata": {},
   "source": [
    "# MP1 : Antoine Salmona"
   ]
  },
  {
   "cell_type": "markdown",
   "metadata": {},
   "source": [
    "On peut tout d'abord faire quelque import utile pour tout le projet:"
   ]
  },
  {
   "cell_type": "code",
   "execution_count": 31,
   "metadata": {},
   "outputs": [],
   "source": [
    "import numpy as np\n",
    "from keras.models import Sequential\n",
    "from keras.layers import Dense, Activation, Conv2D, MaxPooling2D, Flatten, Dropout\n",
    "from keras import optimizers\n",
    "from keras.utils import to_categorical\n",
    "import matplotlib.pyplot as plt\n",
    "    "
   ]
  },
  {
   "cell_type": "markdown",
   "metadata": {},
   "source": [
    "Ensuite, on peut copier coller le code fourni:"
   ]
  },
  {
   "cell_type": "code",
   "execution_count": 19,
   "metadata": {},
   "outputs": [
    {
     "data": {
      "image/png": "[encoded data removed]",
      "text/plain": [
       "<Figure size 432x288 with 1 Axes>"
      ]
     },
     "metadata": {},
     "output_type": "display_data"
    }
   ],
   "source": [
    "import matplotlib.pyplot as plt\n",
    "\n",
    "import numpy as np\n",
    "\n",
    "# On some implementations of matplotlib, you may need to change this value\n",
    "IMAGE_SIZE = 72\n",
    "\n",
    "def generate_a_drawing(figsize, U, V, noise=0.0):\n",
    "    fig = plt.figure(figsize=(figsize,figsize))\n",
    "    ax = plt.subplot(111)\n",
    "    plt.axis('Off')\n",
    "    ax.set_xlim(0,figsize)\n",
    "    ax.set_ylim(0,figsize)\n",
    "    ax.fill(U, V, \"k\")\n",
    "    fig.canvas.draw()\n",
    "    imdata = np.frombuffer(fig.canvas.tostring_rgb(), dtype=np.uint8)[::3].astype(np.float32)\n",
    "    imdata = imdata + noise * np.random.random(imdata.size)\n",
    "    plt.close(fig)\n",
    "    return imdata\n",
    "\n",
    "def generate_a_rectangle(noise=0.0, free_location=False):\n",
    "    figsize = 1.0    \n",
    "    U = np.zeros(4)\n",
    "    V = np.zeros(4)\n",
    "    if free_location:\n",
    "        corners = np.random.random(4)\n",
    "        top = max(corners[0], corners[1])\n",
    "        bottom = min(corners[0], corners[1])\n",
    "        left = min(corners[2], corners[3])\n",
    "        right = max(corners[2], corners[3])\n",
    "    else:\n",
    "        side = (0.3 + 0.7 * np.random.random()) * figsize\n",
    "        top = figsize/2 + side/2\n",
    "        bottom = figsize/2 - side/2\n",
    "        left = bottom\n",
    "        right = top\n",
    "    U[0] = U[1] = top\n",
    "    U[2] = U[3] = bottom\n",
    "    V[0] = V[3] = left\n",
    "    V[1] = V[2] = right\n",
    "    return generate_a_drawing(figsize, U, V, noise)\n",
    "\n",
    "\n",
    "def generate_a_disk(noise=0.0, free_location=False):\n",
    "    figsize = 1.0\n",
    "    if free_location:\n",
    "        center = np.random.random(2)\n",
    "    else:\n",
    "        center = (figsize/2, figsize/2)\n",
    "    radius = (0.3 + 0.7 * np.random.random()) * figsize/2\n",
    "    N = 50\n",
    "    U = np.zeros(N)\n",
    "    V = np.zeros(N)\n",
    "    i = 0\n",
    "    for t in np.linspace(0, 2*np.pi, N):\n",
    "        U[i] = center[0] + np.cos(t) * radius\n",
    "        V[i] = center[1] + np.sin(t) * radius\n",
    "        i = i + 1\n",
    "    return generate_a_drawing(figsize, U, V, noise)\n",
    "\n",
    "def generate_a_triangle(noise=0.0, free_location=False):\n",
    "    figsize = 1.0\n",
    "    if free_location:\n",
    "        U = np.random.random(3)\n",
    "        V = np.random.random(3)\n",
    "    else:\n",
    "        size = (0.3 + 0.7 * np.random.random())*figsize/2\n",
    "        middle = figsize/2\n",
    "        U = (middle, middle+size, middle-size)\n",
    "        V = (middle+size, middle-size, middle-size)\n",
    "    imdata = generate_a_drawing(figsize, U, V, noise)\n",
    "    return [imdata, [U[0], V[0], U[1], V[1], U[2], V[2]]]\n",
    "\n",
    "\n",
    "im = generate_a_rectangle(10, True)\n",
    "plt.imshow(im.reshape(IMAGE_SIZE,IMAGE_SIZE), cmap='gray')\n",
    "\n",
    "im = generate_a_disk(10)\n",
    "plt.imshow(im.reshape(IMAGE_SIZE,IMAGE_SIZE), cmap='gray')\n",
    "\n",
    "[im, v] = generate_a_triangle(20, False)\n",
    "plt.imshow(im.reshape(IMAGE_SIZE,IMAGE_SIZE), cmap='gray')\n",
    "\n",
    "\n",
    "def generate_dataset_classification(nb_samples, noise=0.0, free_location=False):\n",
    "    # Getting im_size:\n",
    "    im_size = generate_a_rectangle().shape[0]\n",
    "    X = np.zeros([nb_samples,im_size])\n",
    "    Y = np.zeros(nb_samples)\n",
    "    print('Creating data:')\n",
    "    for i in range(nb_samples):\n",
    "        if i % 10 == 0:\n",
    "            print(i, end =' ')\n",
    "        category = np.random.randint(3)\n",
    "        if category == 0:\n",
    "            X[i] = generate_a_rectangle(noise, free_location)\n",
    "        elif category == 1: \n",
    "            X[i] = generate_a_disk(noise, free_location)\n",
    "        else:\n",
    "            [X[i], V] = generate_a_triangle(noise, free_location)\n",
    "        Y[i] = category\n",
    "    X = (X + noise) / (255 + 2 * noise)\n",
    "    return [X, Y]\n",
    "\n",
    "def generate_test_set_classification():\n",
    "    np.random.seed(42)\n",
    "    [X_test, Y_test] = generate_dataset_classification(300, 20, True)\n",
    "    return [X_test, Y_test]\n",
    "\n",
    "def generate_dataset_regression(nb_samples, noise=0.0):\n",
    "    # Getting im_size:\n",
    "    im_size = generate_a_triangle()[0].shape[0]\n",
    "    X = np.zeros([nb_samples,im_size])\n",
    "    Y = np.zeros([nb_samples, 6])\n",
    "    print('Creating data:')\n",
    "    for i in range(nb_samples):\n",
    "        if i % 10 == 0:\n",
    "            print(i, end= ' ')\n",
    "        [X[i], Y[i]] = generate_a_triangle(noise, True)\n",
    "    X = (X + noise) / (255 + 2 * noise)\n",
    "    return [X, Y]\n",
    "\n",
    "import matplotlib.patches as patches\n",
    "\n",
    "def visualize_prediction(x, y):\n",
    "    fig, ax = plt.subplots(figsize=(5, 5))\n",
    "    I = x.reshape((IMAGE_SIZE,IMAGE_SIZE))\n",
    "    ax.imshow(I, extent=[-0.15,1.15,-0.15,1.15],cmap='gray')\n",
    "    ax.set_xlim([0,1])\n",
    "    ax.set_ylim([0,1])\n",
    "\n",
    "    xy = y.reshape(3,2)\n",
    "    tri = patches.Polygon(xy, closed=True, fill = False, edgecolor = 'r', linewidth = 5, alpha = 0.5)\n",
    "    ax.add_patch(tri)\n",
    "\n",
    "    plt.show()\n",
    "\n",
    "def generate_test_set_regression():\n",
    "    np.random.seed(42)\n",
    "    [X_test, Y_test] = generate_dataset_regression(300, 20)\n",
    "    return [X_test, Y_test]\n",
    "\n",
    "\n"
   ]
  },
  {
   "cell_type": "markdown",
   "metadata": {},
   "source": [
    "## 3/"
   ]
  },
  {
   "cell_type": "markdown",
   "metadata": {},
   "source": [
    "On genere le dataset:"
   ]
  },
  {
   "cell_type": "code",
   "execution_count": 36,
   "metadata": {},
   "outputs": [
    {
     "name": "stdout",
     "output_type": "stream",
     "text": [
      "Creating data:\n",
      "0 10 20 30 40 50 60 70 80 90 100 110 120 130 140 150 160 170 180 190 200 210 220 230 240 250 260 270 280 290 "
     ]
    }
   ],
   "source": [
    "[X_train, Y_train] = generate_dataset_classification(300, 20)\n",
    "Y_train = to_categorical(Y_train)"
   ]
  },
  {
   "cell_type": "markdown",
   "metadata": {},
   "source": [
    "Comme on a un problème de multi-classification, on choisi une loss de type 'categorical crossentropy' et une fonction d'activation softmax. Comme il y a 3 classes, on met 3 neurones."
   ]
  },
  {
   "cell_type": "code",
   "execution_count": 37,
   "metadata": {},
   "outputs": [],
   "source": [
    "model = Sequential()\n",
    "model.add(Dense(3, activation = 'softmax'))\n"
   ]
  },
  {
   "cell_type": "markdown",
   "metadata": {},
   "source": [
    "On essaye d'abord d'optimiser avec un stochastic gradient descent (résultats pas super) puis avec adam:"
   ]
  },
  {
   "cell_type": "code",
   "execution_count": 38,
   "metadata": {},
   "outputs": [],
   "source": [
    "sgd = optimizers.SGD()\n",
    "#model.compile(loss = 'categorical_crossentropy', optimizer = sgd)\n",
    "\n",
    "adam = optimizers.Adam()\n",
    "model.compile(loss = 'categorical_crossentropy', optimizer = adam)\n"
   ]
  },
  {
   "cell_type": "markdown",
   "metadata": {},
   "source": [
    "On peut alors lancer le training:"
   ]
  },
  {
   "cell_type": "code",
   "execution_count": 39,
   "metadata": {},
   "outputs": [
    {
     "name": "stdout",
     "output_type": "stream",
     "text": [
      "Epoch 1/100\n",
      "300/300 [==============================] - 0s 646us/step - loss: 2.4442\n",
      "Epoch 2/100\n",
      "300/300 [==============================] - 0s 109us/step - loss: 1.4736\n",
      "Epoch 3/100\n",
      "300/300 [==============================] - 0s 141us/step - loss: 0.6807\n",
      "Epoch 4/100\n",
      "300/300 [==============================] - 0s 136us/step - loss: 0.4708\n",
      "Epoch 5/100\n",
      "300/300 [==============================] - 0s 150us/step - loss: 0.3670\n",
      "Epoch 6/100\n",
      "300/300 [==============================] - 0s 122us/step - loss: 0.3307\n",
      "Epoch 7/100\n",
      "300/300 [==============================] - 0s 139us/step - loss: 0.2748\n",
      "Epoch 8/100\n",
      "300/300 [==============================] - 0s 157us/step - loss: 0.2705\n",
      "Epoch 9/100\n",
      "300/300 [==============================] - 0s 145us/step - loss: 0.2349\n",
      "Epoch 10/100\n",
      "300/300 [==============================] - 0s 126us/step - loss: 0.2262\n",
      "Epoch 11/100\n",
      "300/300 [==============================] - 0s 124us/step - loss: 0.2360\n",
      "Epoch 12/100\n",
      "300/300 [==============================] - 0s 119us/step - loss: 0.1782\n",
      "Epoch 13/100\n",
      "300/300 [==============================] - 0s 132us/step - loss: 0.2368\n",
      "Epoch 14/100\n",
      "300/300 [==============================] - 0s 123us/step - loss: 0.2303\n",
      "Epoch 15/100\n",
      "300/300 [==============================] - 0s 111us/step - loss: 0.1359\n",
      "Epoch 16/100\n",
      "300/300 [==============================] - 0s 117us/step - loss: 0.1325\n",
      "Epoch 17/100\n",
      "300/300 [==============================] - 0s 133us/step - loss: 0.1194\n",
      "Epoch 18/100\n",
      "300/300 [==============================] - 0s 116us/step - loss: 0.1050\n",
      "Epoch 19/100\n",
      "300/300 [==============================] - 0s 143us/step - loss: 0.0995\n",
      "Epoch 20/100\n",
      "300/300 [==============================] - 0s 122us/step - loss: 0.0944\n",
      "Epoch 21/100\n",
      "300/300 [==============================] - 0s 119us/step - loss: 0.0903\n",
      "Epoch 22/100\n",
      "300/300 [==============================] - 0s 115us/step - loss: 0.0888\n",
      "Epoch 23/100\n",
      "300/300 [==============================] - 0s 114us/step - loss: 0.1017\n",
      "Epoch 24/100\n",
      "300/300 [==============================] - 0s 141us/step - loss: 0.0733\n",
      "Epoch 25/100\n",
      "300/300 [==============================] - 0s 120us/step - loss: 0.0718\n",
      "Epoch 26/100\n",
      "300/300 [==============================] - 0s 106us/step - loss: 0.0706\n",
      "Epoch 27/100\n",
      "300/300 [==============================] - 0s 125us/step - loss: 0.0705\n",
      "Epoch 28/100\n",
      "300/300 [==============================] - 0s 132us/step - loss: 0.0875\n",
      "Epoch 29/100\n",
      "300/300 [==============================] - 0s 119us/step - loss: 0.0734\n",
      "Epoch 30/100\n",
      "300/300 [==============================] - 0s 131us/step - loss: 0.0654\n",
      "Epoch 31/100\n",
      "300/300 [==============================] - 0s 144us/step - loss: 0.0515\n",
      "Epoch 32/100\n",
      "300/300 [==============================] - 0s 121us/step - loss: 0.0481\n",
      "Epoch 33/100\n",
      "300/300 [==============================] - 0s 99us/step - loss: 0.0465\n",
      "Epoch 34/100\n",
      "300/300 [==============================] - 0s 117us/step - loss: 0.0456\n",
      "Epoch 35/100\n",
      "300/300 [==============================] - 0s 132us/step - loss: 0.0425\n",
      "Epoch 36/100\n",
      "300/300 [==============================] - 0s 132us/step - loss: 0.0400\n",
      "Epoch 37/100\n",
      "300/300 [==============================] - 0s 134us/step - loss: 0.0389\n",
      "Epoch 38/100\n",
      "300/300 [==============================] - 0s 149us/step - loss: 0.0384\n",
      "Epoch 39/100\n",
      "300/300 [==============================] - 0s 116us/step - loss: 0.0367\n",
      "Epoch 40/100\n",
      "300/300 [==============================] - 0s 110us/step - loss: 0.0378\n",
      "Epoch 41/100\n",
      "300/300 [==============================] - 0s 136us/step - loss: 0.0358\n",
      "Epoch 42/100\n",
      "300/300 [==============================] - 0s 106us/step - loss: 0.0329\n",
      "Epoch 43/100\n",
      "300/300 [==============================] - 0s 121us/step - loss: 0.0314\n",
      "Epoch 44/100\n",
      "300/300 [==============================] - 0s 126us/step - loss: 0.0314\n",
      "Epoch 45/100\n",
      "300/300 [==============================] - 0s 136us/step - loss: 0.0296\n",
      "Epoch 46/100\n",
      "300/300 [==============================] - 0s 109us/step - loss: 0.0293\n",
      "Epoch 47/100\n",
      "300/300 [==============================] - 0s 106us/step - loss: 0.0314\n",
      "Epoch 48/100\n",
      "300/300 [==============================] - 0s 118us/step - loss: 0.0315\n",
      "Epoch 49/100\n",
      "300/300 [==============================] - 0s 126us/step - loss: 0.0275\n",
      "Epoch 50/100\n",
      "300/300 [==============================] - 0s 131us/step - loss: 0.0258\n",
      "Epoch 51/100\n",
      "300/300 [==============================] - 0s 134us/step - loss: 0.0258\n",
      "Epoch 52/100\n",
      "300/300 [==============================] - 0s 111us/step - loss: 0.0256\n",
      "Epoch 53/100\n",
      "300/300 [==============================] - 0s 142us/step - loss: 0.0237\n",
      "Epoch 54/100\n",
      "300/300 [==============================] - 0s 136us/step - loss: 0.0225\n",
      "Epoch 55/100\n",
      "300/300 [==============================] - 0s 102us/step - loss: 0.0220\n",
      "Epoch 56/100\n",
      "300/300 [==============================] - 0s 136us/step - loss: 0.0218\n",
      "Epoch 57/100\n",
      "300/300 [==============================] - 0s 103us/step - loss: 0.0205\n",
      "Epoch 58/100\n",
      "300/300 [==============================] - 0s 99us/step - loss: 0.0215\n",
      "Epoch 59/100\n",
      "300/300 [==============================] - 0s 137us/step - loss: 0.0221\n",
      "Epoch 60/100\n",
      "300/300 [==============================] - 0s 119us/step - loss: 0.0197\n",
      "Epoch 61/100\n",
      "300/300 [==============================] - 0s 127us/step - loss: 0.0199\n",
      "Epoch 62/100\n",
      "300/300 [==============================] - 0s 114us/step - loss: 0.0199\n",
      "Epoch 63/100\n",
      "300/300 [==============================] - 0s 112us/step - loss: 0.0179\n",
      "Epoch 64/100\n",
      "300/300 [==============================] - 0s 114us/step - loss: 0.0173\n",
      "Epoch 65/100\n",
      "300/300 [==============================] - 0s 131us/step - loss: 0.0173\n",
      "Epoch 66/100\n",
      "300/300 [==============================] - 0s 181us/step - loss: 0.0172\n",
      "Epoch 67/100\n",
      "300/300 [==============================] - 0s 169us/step - loss: 0.0163\n",
      "Epoch 68/100\n",
      "300/300 [==============================] - 0s 143us/step - loss: 0.0164\n",
      "Epoch 69/100\n",
      "300/300 [==============================] - 0s 127us/step - loss: 0.0157\n",
      "Epoch 70/100\n",
      "300/300 [==============================] - 0s 125us/step - loss: 0.0153\n",
      "Epoch 71/100\n",
      "300/300 [==============================] - 0s 145us/step - loss: 0.0159\n",
      "Epoch 72/100\n",
      "300/300 [==============================] - 0s 144us/step - loss: 0.0146\n",
      "Epoch 73/100\n",
      "300/300 [==============================] - 0s 137us/step - loss: 0.0145\n",
      "Epoch 74/100\n",
      "300/300 [==============================] - 0s 104us/step - loss: 0.0146\n",
      "Epoch 75/100\n",
      "300/300 [==============================] - 0s 131us/step - loss: 0.0139\n",
      "Epoch 76/100\n",
      "300/300 [==============================] - 0s 117us/step - loss: 0.0146\n",
      "Epoch 77/100\n",
      "300/300 [==============================] - 0s 114us/step - loss: 0.0148\n",
      "Epoch 78/100\n",
      "300/300 [==============================] - 0s 126us/step - loss: 0.0135\n",
      "Epoch 79/100\n",
      "300/300 [==============================] - 0s 119us/step - loss: 0.0149\n",
      "Epoch 80/100\n",
      "300/300 [==============================] - 0s 122us/step - loss: 0.0127\n",
      "Epoch 81/100\n",
      "300/300 [==============================] - 0s 102us/step - loss: 0.0125\n",
      "Epoch 82/100\n",
      "300/300 [==============================] - 0s 121us/step - loss: 0.0136\n",
      "Epoch 83/100\n",
      "300/300 [==============================] - 0s 150us/step - loss: 0.0122\n",
      "Epoch 84/100\n",
      "300/300 [==============================] - 0s 116us/step - loss: 0.0121\n",
      "Epoch 85/100\n",
      "300/300 [==============================] - 0s 112us/step - loss: 0.0120\n",
      "Epoch 86/100\n",
      "300/300 [==============================] - 0s 121us/step - loss: 0.0110\n",
      "Epoch 87/100\n",
      "300/300 [==============================] - 0s 132us/step - loss: 0.0107\n",
      "Epoch 88/100\n",
      "300/300 [==============================] - 0s 141us/step - loss: 0.0107\n",
      "Epoch 89/100\n",
      "300/300 [==============================] - 0s 109us/step - loss: 0.0109\n",
      "Epoch 90/100\n",
      "300/300 [==============================] - 0s 107us/step - loss: 0.0101\n",
      "Epoch 91/100\n",
      "300/300 [==============================] - 0s 115us/step - loss: 0.0099\n",
      "Epoch 92/100\n",
      "300/300 [==============================] - 0s 124us/step - loss: 0.0098\n",
      "Epoch 93/100\n",
      "300/300 [==============================] - 0s 112us/step - loss: 0.0096\n",
      "Epoch 94/100\n",
      "300/300 [==============================] - 0s 131us/step - loss: 0.0096\n",
      "Epoch 95/100\n",
      "300/300 [==============================] - 0s 98us/step - loss: 0.0094\n",
      "Epoch 96/100\n",
      "300/300 [==============================] - 0s 117us/step - loss: 0.0091\n",
      "Epoch 97/100\n"
     ]
    },
    {
     "name": "stdout",
     "output_type": "stream",
     "text": [
      "300/300 [==============================] - 0s 136us/step - loss: 0.0092\n",
      "Epoch 98/100\n",
      "300/300 [==============================] - 0s 121us/step - loss: 0.0093\n",
      "Epoch 99/100\n",
      "300/300 [==============================] - 0s 142us/step - loss: 0.0090\n",
      "Epoch 100/100\n",
      "300/300 [==============================] - 0s 122us/step - loss: 0.0092\n"
     ]
    }
   ],
   "source": [
    "history = model.fit(X_train, Y_train, epochs=100) "
   ]
  },
  {
   "cell_type": "markdown",
   "metadata": {},
   "source": [
    "On peut alors plot la loss en fonction du nombre d'epoch:"
   ]
  },
  {
   "cell_type": "code",
   "execution_count": 44,
   "metadata": {},
   "outputs": [
    {
     "data": {
      "image/png": "[encoded data removed]",
      "text/plain": [
       "<Figure size 432x288 with 1 Axes>"
      ]
     },
     "metadata": {},
     "output_type": "display_data"
    }
   ],
   "source": [
    "plt.plot(history.history['loss'])\n",
    "plt.title('loss minimization with adam')\n",
    "plt.show()"
   ]
  },
  {
   "cell_type": "markdown",
   "metadata": {},
   "source": [
    "On peu alors verifier nos resultats:"
   ]
  },
  {
   "cell_type": "code",
   "execution_count": 35,
   "metadata": {},
   "outputs": [
    {
     "data": {
      "text/plain": [
       "array([[1., 0., 0.]], dtype=float32)"
      ]
     },
     "execution_count": 35,
     "metadata": {},
     "output_type": "execute_result"
    }
   ],
   "source": [
    "X_test = mp1.generate_a_rectangle() \n",
    "X_test = X_test.reshape(1, X_test.shape[0]) \n",
    "model.predict(X_test)"
   ]
  },
  {
   "cell_type": "code",
   "execution_count": 41,
   "metadata": {},
   "outputs": [
    {
     "data": {
      "text/plain": [
       "array([[0., 1., 0.]], dtype=float32)"
      ]
     },
     "execution_count": 41,
     "metadata": {},
     "output_type": "execute_result"
    }
   ],
   "source": [
    "X_test = mp1.generate_a_disk() \n",
    "X_test = X_test.reshape(1, X_test.shape[0]) \n",
    "model.predict(X_test)"
   ]
  },
  {
   "cell_type": "code",
   "execution_count": 43,
   "metadata": {},
   "outputs": [
    {
     "data": {
      "text/plain": [
       "array([[0., 0., 1.]], dtype=float32)"
      ]
     },
     "execution_count": 43,
     "metadata": {},
     "output_type": "execute_result"
    }
   ],
   "source": [
    "X_test = mp1.generate_a_triangle()[0]\n",
    "X_test = X_test.reshape(1, X_test.shape[0]) \n",
    "model.predict(X_test)"
   ]
  },
  {
   "cell_type": "markdown",
   "metadata": {},
   "source": [
    "Cela a l'air de marcher plutot bien..."
   ]
  },
  {
   "cell_type": "markdown",
   "metadata": {},
   "source": [
    "## 4/"
   ]
  },
  {
   "cell_type": "markdown",
   "metadata": {},
   "source": [
    "On calcule les poids en utilsant get_weights():"
   ]
  },
  {
   "cell_type": "code",
   "execution_count": 46,
   "metadata": {},
   "outputs": [],
   "source": [
    "weights = model.get_weights()"
   ]
  },
  {
   "cell_type": "markdown",
   "metadata": {},
   "source": [
    "Ensuite on peut les plots:"
   ]
  },
  {
   "cell_type": "code",
   "execution_count": 49,
   "metadata": {},
   "outputs": [
    {
     "data": {
      "image/png": "[encoded data removed]",
      "text/plain": [
       "<Figure size 432x288 with 1 Axes>"
      ]
     },
     "metadata": {},
     "output_type": "display_data"
    }
   ],
   "source": [
    "IMAGE_SIZE = 72\n",
    "plt.imshow(weights[0][:,0].reshape(IMAGE_SIZE,IMAGE_SIZE), cmap='gray')\n",
    "plt.title(\"weigths of the first class\")\n",
    "plt.show()"
   ]
  },
  {
   "cell_type": "markdown",
   "metadata": {},
   "source": [
    "On reconnait bien un rectangle"
   ]
  },
  {
   "cell_type": "code",
   "execution_count": 51,
   "metadata": {},
   "outputs": [
    {
     "data": {
      "image/png": "[encoded data removed]",
      "text/plain": [
       "<Figure size 432x288 with 1 Axes>"
      ]
     },
     "metadata": {},
     "output_type": "display_data"
    }
   ],
   "source": [
    "IMAGE_SIZE = 72\n",
    "plt.imshow(weights[0][:,1].reshape(IMAGE_SIZE,IMAGE_SIZE), cmap='gray')\n",
    "plt.title(\"weigths of the second class\")\n",
    "plt.show()"
   ]
  },
  {
   "cell_type": "markdown",
   "metadata": {},
   "source": [
    "On reconnait un cercle (pas super)"
   ]
  },
  {
   "cell_type": "code",
   "execution_count": 52,
   "metadata": {},
   "outputs": [
    {
     "data": {
      "image/png": "[encoded data removed]",
      "text/plain": [
       "<Figure size 432x288 with 1 Axes>"
      ]
     },
     "metadata": {},
     "output_type": "display_data"
    }
   ],
   "source": [
    "IMAGE_SIZE = 72\n",
    "plt.imshow(weights[0][:,2].reshape(IMAGE_SIZE,IMAGE_SIZE), cmap='gray')\n",
    "plt.title(\"weigths of the third class\")\n",
    "plt.show()"
   ]
  },
  {
   "cell_type": "markdown",
   "metadata": {},
   "source": [
    "On devine bien un triangle"
   ]
  },
  {
   "cell_type": "markdown",
   "metadata": {},
   "source": [
    "## 5/"
   ]
  },
  {
   "cell_type": "markdown",
   "metadata": {},
   "source": [
    "On peut génerer le dataset:"
   ]
  },
  {
   "cell_type": "code",
   "execution_count": 60,
   "metadata": {},
   "outputs": [
    {
     "name": "stdout",
     "output_type": "stream",
     "text": [
      "Creating data:\n",
      "0 10 20 30 40 50 60 70 80 90 100 110 120 130 140 150 160 170 180 190 200 210 220 230 240 250 260 270 280 290 300 310 320 330 340 350 360 370 380 390 400 410 420 430 440 450 460 470 480 490 500 510 520 530 540 550 560 570 580 590 600 610 620 630 640 650 660 670 680 690 700 710 720 730 740 750 760 770 780 790 800 810 820 830 840 850 860 870 880 890 900 910 920 930 940 950 960 970 980 990 "
     ]
    }
   ],
   "source": [
    "[X_train, Y_train] = generate_dataset_classification(1000, 20, True)\n",
    "Y_train = to_categorical(Y_train)"
   ]
  },
  {
   "cell_type": "markdown",
   "metadata": {},
   "source": [
    "puis redéfinir le model:"
   ]
  },
  {
   "cell_type": "code",
   "execution_count": 72,
   "metadata": {},
   "outputs": [],
   "source": [
    "model2 = Sequential()\n",
    "model2.add(Dense(3, activation = 'softmax'))\n",
    "adam = optimizers.Adam(lr=5e-5)\n",
    "model2.compile(loss = 'categorical_crossentropy', optimizer = adam, metrics=['accuracy'])"
   ]
  },
  {
   "cell_type": "markdown",
   "metadata": {},
   "source": [
    "puis lancer le training:"
   ]
  },
  {
   "cell_type": "code",
   "execution_count": 73,
   "metadata": {},
   "outputs": [
    {
     "name": "stdout",
     "output_type": "stream",
     "text": [
      "Epoch 1/100\n",
      "1000/1000 [==============================] - 1s 1ms/step - loss: 1.2233 - acc: 0.3230\n",
      "Epoch 2/100\n",
      "1000/1000 [==============================] - 0s 120us/step - loss: 1.1008 - acc: 0.3640\n",
      "Epoch 3/100\n",
      "1000/1000 [==============================] - 0s 131us/step - loss: 1.0804 - acc: 0.3900\n",
      "Epoch 4/100\n",
      "1000/1000 [==============================] - 0s 126us/step - loss: 1.0619 - acc: 0.4250\n",
      "Epoch 5/100\n",
      "1000/1000 [==============================] - 0s 119us/step - loss: 1.0315 - acc: 0.4760\n",
      "Epoch 6/100\n",
      "1000/1000 [==============================] - 0s 126us/step - loss: 1.0156 - acc: 0.4920\n",
      "Epoch 7/100\n",
      "1000/1000 [==============================] - 0s 115us/step - loss: 0.9987 - acc: 0.4890\n",
      "Epoch 8/100\n",
      "1000/1000 [==============================] - 0s 138us/step - loss: 0.9886 - acc: 0.5060\n",
      "Epoch 9/100\n",
      "1000/1000 [==============================] - 0s 116us/step - loss: 0.9708 - acc: 0.5200\n",
      "Epoch 10/100\n",
      "1000/1000 [==============================] - 0s 134us/step - loss: 0.9587 - acc: 0.5350\n",
      "Epoch 11/100\n",
      "1000/1000 [==============================] - 0s 123us/step - loss: 0.9541 - acc: 0.5310\n",
      "Epoch 12/100\n",
      "1000/1000 [==============================] - 0s 121us/step - loss: 0.9495 - acc: 0.5340\n",
      "Epoch 13/100\n",
      "1000/1000 [==============================] - 0s 127us/step - loss: 0.9424 - acc: 0.5380\n",
      "Epoch 14/100\n",
      "1000/1000 [==============================] - 0s 135us/step - loss: 0.9215 - acc: 0.5460\n",
      "Epoch 15/100\n",
      "1000/1000 [==============================] - 0s 153us/step - loss: 0.9150 - acc: 0.5500\n",
      "Epoch 16/100\n",
      "1000/1000 [==============================] - 0s 171us/step - loss: 0.9156 - acc: 0.5350\n",
      "Epoch 17/100\n",
      "1000/1000 [==============================] - 0s 182us/step - loss: 0.9110 - acc: 0.5560\n",
      "Epoch 18/100\n",
      "1000/1000 [==============================] - 0s 166us/step - loss: 0.8934 - acc: 0.5570\n",
      "Epoch 19/100\n",
      "1000/1000 [==============================] - 0s 134us/step - loss: 0.8859 - acc: 0.5790\n",
      "Epoch 20/100\n",
      "1000/1000 [==============================] - 0s 133us/step - loss: 0.8796 - acc: 0.5880\n",
      "Epoch 21/100\n",
      "1000/1000 [==============================] - 0s 138us/step - loss: 0.8784 - acc: 0.5660\n",
      "Epoch 22/100\n",
      "1000/1000 [==============================] - 0s 128us/step - loss: 0.8729 - acc: 0.5760\n",
      "Epoch 23/100\n",
      "1000/1000 [==============================] - 0s 116us/step - loss: 0.8691 - acc: 0.5570\n",
      "Epoch 24/100\n",
      "1000/1000 [==============================] - 0s 125us/step - loss: 0.8730 - acc: 0.5740\n",
      "Epoch 25/100\n",
      "1000/1000 [==============================] - 0s 111us/step - loss: 0.8681 - acc: 0.5650\n",
      "Epoch 26/100\n",
      "1000/1000 [==============================] - 0s 132us/step - loss: 0.8552 - acc: 0.5840\n",
      "Epoch 27/100\n",
      "1000/1000 [==============================] - 0s 123us/step - loss: 0.8534 - acc: 0.5850\n",
      "Epoch 28/100\n",
      "1000/1000 [==============================] - 0s 105us/step - loss: 0.8462 - acc: 0.5950\n",
      "Epoch 29/100\n",
      "1000/1000 [==============================] - 0s 80us/step - loss: 0.8506 - acc: 0.5920\n",
      "Epoch 30/100\n",
      "1000/1000 [==============================] - 0s 81us/step - loss: 0.8440 - acc: 0.5770\n",
      "Epoch 31/100\n",
      "1000/1000 [==============================] - 0s 105us/step - loss: 0.8419 - acc: 0.5880\n",
      "Epoch 32/100\n",
      "1000/1000 [==============================] - 0s 105us/step - loss: 0.8372 - acc: 0.5890\n",
      "Epoch 33/100\n",
      "1000/1000 [==============================] - 0s 111us/step - loss: 0.8311 - acc: 0.5970\n",
      "Epoch 34/100\n",
      "1000/1000 [==============================] - 0s 131us/step - loss: 0.8313 - acc: 0.5970\n",
      "Epoch 35/100\n",
      "1000/1000 [==============================] - 0s 128us/step - loss: 0.8272 - acc: 0.5780\n",
      "Epoch 36/100\n",
      "1000/1000 [==============================] - 0s 113us/step - loss: 0.8492 - acc: 0.5920\n",
      "Epoch 37/100\n",
      "1000/1000 [==============================] - 0s 101us/step - loss: 0.8262 - acc: 0.5820\n",
      "Epoch 38/100\n",
      "1000/1000 [==============================] - 0s 96us/step - loss: 0.8534 - acc: 0.5860\n",
      "Epoch 39/100\n",
      "1000/1000 [==============================] - 0s 96us/step - loss: 0.8446 - acc: 0.5790\n",
      "Epoch 40/100\n",
      "1000/1000 [==============================] - 0s 98us/step - loss: 0.8226 - acc: 0.6040\n",
      "Epoch 41/100\n",
      "1000/1000 [==============================] - 0s 96us/step - loss: 0.8300 - acc: 0.5830\n",
      "Epoch 42/100\n",
      "1000/1000 [==============================] - 0s 102us/step - loss: 0.8165 - acc: 0.6070\n",
      "Epoch 43/100\n",
      "1000/1000 [==============================] - 0s 96us/step - loss: 0.8295 - acc: 0.5860\n",
      "Epoch 44/100\n",
      "1000/1000 [==============================] - 0s 96us/step - loss: 0.8185 - acc: 0.6100\n",
      "Epoch 45/100\n",
      "1000/1000 [==============================] - 0s 98us/step - loss: 0.8081 - acc: 0.6090\n",
      "Epoch 46/100\n",
      "1000/1000 [==============================] - 0s 106us/step - loss: 0.8066 - acc: 0.6350\n",
      "Epoch 47/100\n",
      "1000/1000 [==============================] - 0s 107us/step - loss: 0.8073 - acc: 0.6030\n",
      "Epoch 48/100\n",
      "1000/1000 [==============================] - 0s 104us/step - loss: 0.8131 - acc: 0.5950\n",
      "Epoch 49/100\n",
      "1000/1000 [==============================] - 0s 108us/step - loss: 0.7990 - acc: 0.6170\n",
      "Epoch 50/100\n",
      "1000/1000 [==============================] - 0s 104us/step - loss: 0.8041 - acc: 0.6070\n",
      "Epoch 51/100\n",
      "1000/1000 [==============================] - 0s 114us/step - loss: 0.8041 - acc: 0.6180\n",
      "Epoch 52/100\n",
      "1000/1000 [==============================] - 0s 125us/step - loss: 0.7946 - acc: 0.6040\n",
      "Epoch 53/100\n",
      "1000/1000 [==============================] - 0s 124us/step - loss: 0.8011 - acc: 0.6150\n",
      "Epoch 54/100\n",
      "1000/1000 [==============================] - 0s 104us/step - loss: 0.7966 - acc: 0.6210\n",
      "Epoch 55/100\n",
      "1000/1000 [==============================] - 0s 97us/step - loss: 0.7899 - acc: 0.6270\n",
      "Epoch 56/100\n",
      "1000/1000 [==============================] - 0s 124us/step - loss: 0.7964 - acc: 0.6050\n",
      "Epoch 57/100\n",
      "1000/1000 [==============================] - 0s 118us/step - loss: 0.7884 - acc: 0.6300\n",
      "Epoch 58/100\n",
      "1000/1000 [==============================] - 0s 105us/step - loss: 0.7895 - acc: 0.6240\n",
      "Epoch 59/100\n",
      "1000/1000 [==============================] - 0s 120us/step - loss: 0.7922 - acc: 0.6060\n",
      "Epoch 60/100\n",
      "1000/1000 [==============================] - 0s 131us/step - loss: 0.7985 - acc: 0.6000\n",
      "Epoch 61/100\n",
      "1000/1000 [==============================] - 0s 103us/step - loss: 0.7863 - acc: 0.6280\n",
      "Epoch 62/100\n",
      "1000/1000 [==============================] - 0s 103us/step - loss: 0.7816 - acc: 0.6270\n",
      "Epoch 63/100\n",
      "1000/1000 [==============================] - 0s 103us/step - loss: 0.8031 - acc: 0.6010\n",
      "Epoch 64/100\n",
      "1000/1000 [==============================] - 0s 100us/step - loss: 0.7867 - acc: 0.6180\n",
      "Epoch 65/100\n",
      "1000/1000 [==============================] - 0s 101us/step - loss: 0.7860 - acc: 0.6320\n",
      "Epoch 66/100\n",
      "1000/1000 [==============================] - 0s 130us/step - loss: 0.7805 - acc: 0.6170\n",
      "Epoch 67/100\n",
      "1000/1000 [==============================] - 0s 105us/step - loss: 0.7749 - acc: 0.6310\n",
      "Epoch 68/100\n",
      "1000/1000 [==============================] - 0s 104us/step - loss: 0.7876 - acc: 0.6290\n",
      "Epoch 69/100\n",
      "1000/1000 [==============================] - 0s 119us/step - loss: 0.7813 - acc: 0.6280\n",
      "Epoch 70/100\n",
      "1000/1000 [==============================] - 0s 103us/step - loss: 0.7754 - acc: 0.6340\n",
      "Epoch 71/100\n",
      "1000/1000 [==============================] - 0s 101us/step - loss: 0.7755 - acc: 0.6300\n",
      "Epoch 72/100\n",
      "1000/1000 [==============================] - 0s 96us/step - loss: 0.7869 - acc: 0.6070\n",
      "Epoch 73/100\n",
      "1000/1000 [==============================] - 0s 99us/step - loss: 0.7829 - acc: 0.6250\n",
      "Epoch 74/100\n",
      "1000/1000 [==============================] - 0s 101us/step - loss: 0.7789 - acc: 0.6250\n",
      "Epoch 75/100\n",
      "1000/1000 [==============================] - 0s 121us/step - loss: 0.7719 - acc: 0.6210\n",
      "Epoch 76/100\n",
      "1000/1000 [==============================] - 0s 102us/step - loss: 0.7701 - acc: 0.6270\n",
      "Epoch 77/100\n",
      "1000/1000 [==============================] - 0s 105us/step - loss: 0.7781 - acc: 0.6180\n",
      "Epoch 78/100\n",
      "1000/1000 [==============================] - 0s 102us/step - loss: 0.7702 - acc: 0.6410\n",
      "Epoch 79/100\n",
      "1000/1000 [==============================] - 0s 93us/step - loss: 0.7681 - acc: 0.6290\n",
      "Epoch 80/100\n",
      "1000/1000 [==============================] - 0s 95us/step - loss: 0.7629 - acc: 0.6300\n",
      "Epoch 81/100\n",
      "1000/1000 [==============================] - 0s 103us/step - loss: 0.7731 - acc: 0.6280\n",
      "Epoch 82/100\n"
     ]
    },
    {
     "name": "stdout",
     "output_type": "stream",
     "text": [
      "1000/1000 [==============================] - 0s 104us/step - loss: 0.7625 - acc: 0.6400\n",
      "Epoch 83/100\n",
      "1000/1000 [==============================] - 0s 97us/step - loss: 0.7655 - acc: 0.6210\n",
      "Epoch 84/100\n",
      "1000/1000 [==============================] - 0s 104us/step - loss: 0.7574 - acc: 0.6450\n",
      "Epoch 85/100\n",
      "1000/1000 [==============================] - 0s 119us/step - loss: 0.7706 - acc: 0.6260\n",
      "Epoch 86/100\n",
      "1000/1000 [==============================] - 0s 98us/step - loss: 0.7578 - acc: 0.6460\n",
      "Epoch 87/100\n",
      "1000/1000 [==============================] - 0s 114us/step - loss: 0.7615 - acc: 0.6420\n",
      "Epoch 88/100\n",
      "1000/1000 [==============================] - 0s 116us/step - loss: 0.7855 - acc: 0.5920\n",
      "Epoch 89/100\n",
      "1000/1000 [==============================] - 0s 103us/step - loss: 0.7611 - acc: 0.6430\n",
      "Epoch 90/100\n",
      "1000/1000 [==============================] - 0s 96us/step - loss: 0.7583 - acc: 0.6580\n",
      "Epoch 91/100\n",
      "1000/1000 [==============================] - 0s 105us/step - loss: 0.7551 - acc: 0.6390\n",
      "Epoch 92/100\n",
      "1000/1000 [==============================] - 0s 134us/step - loss: 0.7562 - acc: 0.6340\n",
      "Epoch 93/100\n",
      "1000/1000 [==============================] - 0s 114us/step - loss: 0.7493 - acc: 0.6510\n",
      "Epoch 94/100\n",
      "1000/1000 [==============================] - 0s 124us/step - loss: 0.7492 - acc: 0.6390\n",
      "Epoch 95/100\n",
      "1000/1000 [==============================] - 0s 114us/step - loss: 0.7600 - acc: 0.6230\n",
      "Epoch 96/100\n",
      "1000/1000 [==============================] - 0s 109us/step - loss: 0.7524 - acc: 0.6370\n",
      "Epoch 97/100\n",
      "1000/1000 [==============================] - 0s 124us/step - loss: 0.7499 - acc: 0.6420\n",
      "Epoch 98/100\n",
      "1000/1000 [==============================] - 0s 111us/step - loss: 0.7458 - acc: 0.6470\n",
      "Epoch 99/100\n",
      "1000/1000 [==============================] - 0s 97us/step - loss: 0.7468 - acc: 0.6520\n",
      "Epoch 100/100\n",
      "1000/1000 [==============================] - 0s 101us/step - loss: 0.7499 - acc: 0.6400\n"
     ]
    }
   ],
   "source": [
    "history = model2.fit(X_train, Y_train, epochs=100) "
   ]
  },
  {
   "cell_type": "markdown",
   "metadata": {},
   "source": [
    "puis plot la loss: "
   ]
  },
  {
   "cell_type": "code",
   "execution_count": 74,
   "metadata": {},
   "outputs": [
    {
     "data": {
      "image/png": "[encoded data removed]",
      "text/plain": [
       "<Figure size 432x288 with 1 Axes>"
      ]
     },
     "metadata": {},
     "output_type": "display_data"
    }
   ],
   "source": [
    "plt.plot(history.history['loss'])\n",
    "plt.title('loss minimization with adam')\n",
    "plt.show()"
   ]
  },
  {
   "cell_type": "markdown",
   "metadata": {},
   "source": [
    "On a seulement 64% d'accuracy sur le training set, ce qui n'est pas satisfaisant, on peut quand meme tester sur un nouveau dataset:"
   ]
  },
  {
   "cell_type": "code",
   "execution_count": 79,
   "metadata": {},
   "outputs": [
    {
     "name": "stdout",
     "output_type": "stream",
     "text": [
      "Creating data:\n",
      "0 10 20 30 40 50 60 70 80 90 100 110 120 130 140 150 160 170 180 190 200 210 220 230 240 250 260 270 280 290 "
     ]
    }
   ],
   "source": [
    "[X_test, Y_test] = generate_test_set_classification()\n",
    "Y_test = to_categorical(Y_test, 3)"
   ]
  },
  {
   "cell_type": "markdown",
   "metadata": {},
   "source": [
    "puis évaluer:"
   ]
  },
  {
   "cell_type": "code",
   "execution_count": 81,
   "metadata": {},
   "outputs": [
    {
     "name": "stdout",
     "output_type": "stream",
     "text": [
      "300/300 [==============================] - 0s 443us/step\n"
     ]
    },
    {
     "data": {
      "text/plain": [
       "[1.2526180680592855, 0.6166666658719381]"
      ]
     },
     "execution_count": 81,
     "metadata": {},
     "output_type": "execute_result"
    }
   ],
   "source": [
    "model.evaluate(X_test, Y_test)"
   ]
  },
  {
   "cell_type": "markdown",
   "metadata": {},
   "source": [
    "On a une accuracy de 61%, ainsi meme si le reseau n'est pas très bon, il a une bonne capacité à généraliser.\n",
    "\n",
    "On peut alors essayer avec un CNN (en utilisant l'architecture suggéré):"
   ]
  },
  {
   "cell_type": "code",
   "execution_count": 96,
   "metadata": {},
   "outputs": [],
   "source": [
    "model3 = Sequential()\n",
    "model3.add(Conv2D(16,(5,5), activation='relu', input_shape = (72,72,1)))\n",
    "model3.add(MaxPooling2D(pool_size=(2,2)))\n",
    "model3.add(Flatten())\n",
    "model3.add(Dense(3, activation='softmax')) \n"
   ]
  },
  {
   "cell_type": "code",
   "execution_count": 97,
   "metadata": {},
   "outputs": [],
   "source": [
    "adam = optimizers.Adam()\n",
    "model3.compile(loss = 'categorical_crossentropy', optimizer = adam, metrics=['accuracy'])"
   ]
  },
  {
   "cell_type": "markdown",
   "metadata": {},
   "source": [
    "On reshape alors X_train pour le training:"
   ]
  },
  {
   "cell_type": "code",
   "execution_count": 94,
   "metadata": {},
   "outputs": [
    {
     "name": "stdout",
     "output_type": "stream",
     "text": [
      "Creating data:\n",
      "0 10 20 30 40 50 60 70 80 90 100 110 120 130 140 150 160 170 180 190 200 210 220 230 240 250 260 270 280 290 300 310 320 330 340 350 360 370 380 390 400 410 420 430 440 450 460 470 480 490 500 510 520 530 540 550 560 570 580 590 600 610 620 630 640 650 660 670 680 690 700 710 720 730 740 750 760 770 780 790 800 810 820 830 840 850 860 870 880 890 900 910 920 930 940 950 960 970 980 990 "
     ]
    }
   ],
   "source": [
    "[X_train, Y_train] = generate_dataset_classification(1000, 20, True)\n",
    "Y_train = to_categorical(Y_train)\n",
    "X_train = X_train.reshape(X_train.shape[0],72,72,1)"
   ]
  },
  {
   "cell_type": "markdown",
   "metadata": {},
   "source": [
    "puis on lance le training:"
   ]
  },
  {
   "cell_type": "code",
   "execution_count": 98,
   "metadata": {},
   "outputs": [
    {
     "name": "stdout",
     "output_type": "stream",
     "text": [
      "Epoch 1/100\n",
      "1000/1000 [==============================] - 3s 3ms/step - loss: 1.0900 - acc: 0.4830\n",
      "Epoch 2/100\n",
      "1000/1000 [==============================] - 3s 3ms/step - loss: 0.7656 - acc: 0.6780\n",
      "Epoch 3/100\n",
      "1000/1000 [==============================] - 3s 3ms/step - loss: 0.6421 - acc: 0.7710\n",
      "Epoch 4/100\n",
      "1000/1000 [==============================] - 3s 3ms/step - loss: 0.5709 - acc: 0.7850\n",
      "Epoch 5/100\n",
      "1000/1000 [==============================] - 3s 3ms/step - loss: 0.5172 - acc: 0.8200\n",
      "Epoch 6/100\n",
      "1000/1000 [==============================] - 3s 3ms/step - loss: 0.4680 - acc: 0.8470\n",
      "Epoch 7/100\n",
      "1000/1000 [==============================] - 4s 4ms/step - loss: 0.4200 - acc: 0.8690\n",
      "Epoch 8/100\n",
      "1000/1000 [==============================] - 5s 5ms/step - loss: 0.4096 - acc: 0.8610\n",
      "Epoch 9/100\n",
      "1000/1000 [==============================] - 4s 4ms/step - loss: 0.3650 - acc: 0.8800\n",
      "Epoch 10/100\n",
      "1000/1000 [==============================] - 3s 3ms/step - loss: 0.3494 - acc: 0.8890\n",
      "Epoch 11/100\n",
      "1000/1000 [==============================] - 3s 3ms/step - loss: 0.3123 - acc: 0.9110\n",
      "Epoch 12/100\n",
      "1000/1000 [==============================] - 3s 3ms/step - loss: 0.2856 - acc: 0.9130\n",
      "Epoch 13/100\n",
      "1000/1000 [==============================] - 3s 3ms/step - loss: 0.2593 - acc: 0.9290\n",
      "Epoch 14/100\n",
      "1000/1000 [==============================] - 3s 3ms/step - loss: 0.2342 - acc: 0.9440\n",
      "Epoch 15/100\n",
      "1000/1000 [==============================] - 3s 3ms/step - loss: 0.2165 - acc: 0.9510\n",
      "Epoch 16/100\n",
      "1000/1000 [==============================] - 3s 3ms/step - loss: 0.1953 - acc: 0.9580\n",
      "Epoch 17/100\n",
      "1000/1000 [==============================] - 3s 3ms/step - loss: 0.1879 - acc: 0.9640\n",
      "Epoch 18/100\n",
      "1000/1000 [==============================] - 4s 4ms/step - loss: 0.1731 - acc: 0.9620\n",
      "Epoch 19/100\n",
      "1000/1000 [==============================] - 4s 4ms/step - loss: 0.1723 - acc: 0.9630\n",
      "Epoch 20/100\n",
      "1000/1000 [==============================] - 4s 4ms/step - loss: 0.1644 - acc: 0.9740\n",
      "Epoch 21/100\n",
      "1000/1000 [==============================] - 3s 3ms/step - loss: 0.1436 - acc: 0.9730\n",
      "Epoch 22/100\n",
      "1000/1000 [==============================] - 3s 3ms/step - loss: 0.1274 - acc: 0.9810\n",
      "Epoch 23/100\n",
      "1000/1000 [==============================] - 3s 3ms/step - loss: 0.1093 - acc: 0.9860\n",
      "Epoch 24/100\n",
      "1000/1000 [==============================] - 3s 3ms/step - loss: 0.0983 - acc: 0.9910\n",
      "Epoch 25/100\n",
      "1000/1000 [==============================] - 3s 3ms/step - loss: 0.0902 - acc: 0.9920\n",
      "Epoch 26/100\n",
      "1000/1000 [==============================] - 4s 4ms/step - loss: 0.0830 - acc: 0.9920\n",
      "Epoch 27/100\n",
      "1000/1000 [==============================] - 4s 4ms/step - loss: 0.0921 - acc: 0.9940\n",
      "Epoch 28/100\n",
      "1000/1000 [==============================] - 4s 4ms/step - loss: 0.0921 - acc: 0.9900\n",
      "Epoch 29/100\n",
      "1000/1000 [==============================] - 4s 4ms/step - loss: 0.0750 - acc: 0.9960\n",
      "Epoch 30/100\n",
      "1000/1000 [==============================] - 4s 4ms/step - loss: 0.0620 - acc: 0.9970\n",
      "Epoch 31/100\n",
      "1000/1000 [==============================] - 4s 4ms/step - loss: 0.0546 - acc: 0.9970\n",
      "Epoch 32/100\n",
      "1000/1000 [==============================] - 3s 3ms/step - loss: 0.0621 - acc: 0.9970\n",
      "Epoch 33/100\n",
      "1000/1000 [==============================] - 3s 3ms/step - loss: 0.0551 - acc: 0.9980\n",
      "Epoch 34/100\n",
      "1000/1000 [==============================] - 4s 4ms/step - loss: 0.0452 - acc: 0.9980\n",
      "Epoch 35/100\n",
      "1000/1000 [==============================] - 5s 5ms/step - loss: 0.0406 - acc: 0.9980\n",
      "Epoch 36/100\n",
      "1000/1000 [==============================] - 4s 4ms/step - loss: 0.0409 - acc: 0.9990\n",
      "Epoch 37/100\n",
      "1000/1000 [==============================] - 4s 4ms/step - loss: 0.0404 - acc: 0.9990\n",
      "Epoch 38/100\n",
      "1000/1000 [==============================] - 4s 4ms/step - loss: 0.0373 - acc: 0.9990\n",
      "Epoch 39/100\n",
      "1000/1000 [==============================] - 4s 4ms/step - loss: 0.0330 - acc: 0.9990\n",
      "Epoch 40/100\n",
      "1000/1000 [==============================] - 4s 4ms/step - loss: 0.0300 - acc: 1.0000\n",
      "Epoch 41/100\n",
      "1000/1000 [==============================] - 4s 4ms/step - loss: 0.0299 - acc: 0.9980\n",
      "Epoch 42/100\n",
      "1000/1000 [==============================] - 4s 4ms/step - loss: 0.0265 - acc: 1.0000\n",
      "Epoch 43/100\n",
      "1000/1000 [==============================] - 4s 4ms/step - loss: 0.0262 - acc: 1.0000\n",
      "Epoch 44/100\n",
      "1000/1000 [==============================] - 4s 4ms/step - loss: 0.0249 - acc: 1.0000\n",
      "Epoch 45/100\n",
      "1000/1000 [==============================] - 5s 5ms/step - loss: 0.0226 - acc: 1.0000\n",
      "Epoch 46/100\n",
      "1000/1000 [==============================] - 5s 5ms/step - loss: 0.0214 - acc: 1.0000\n",
      "Epoch 47/100\n",
      "1000/1000 [==============================] - 4s 4ms/step - loss: 0.0189 - acc: 1.0000\n",
      "Epoch 48/100\n",
      "1000/1000 [==============================] - 5s 5ms/step - loss: 0.0185 - acc: 1.0000\n",
      "Epoch 49/100\n",
      "1000/1000 [==============================] - 6s 6ms/step - loss: 0.0176 - acc: 1.0000\n",
      "Epoch 50/100\n",
      "1000/1000 [==============================] - 6s 6ms/step - loss: 0.0172 - acc: 1.0000\n",
      "Epoch 51/100\n",
      "1000/1000 [==============================] - 5s 5ms/step - loss: 0.0171 - acc: 1.0000\n",
      "Epoch 52/100\n",
      "1000/1000 [==============================] - 4s 4ms/step - loss: 0.0156 - acc: 1.0000\n",
      "Epoch 53/100\n",
      "1000/1000 [==============================] - 5s 5ms/step - loss: 0.0161 - acc: 1.0000\n",
      "Epoch 54/100\n",
      "1000/1000 [==============================] - 5s 5ms/step - loss: 0.0153 - acc: 1.0000\n",
      "Epoch 55/100\n",
      "1000/1000 [==============================] - 4s 4ms/step - loss: 0.0139 - acc: 1.0000\n",
      "Epoch 56/100\n",
      "1000/1000 [==============================] - 5s 5ms/step - loss: 0.0130 - acc: 1.0000\n",
      "Epoch 57/100\n",
      "1000/1000 [==============================] - 4s 4ms/step - loss: 0.0133 - acc: 1.0000\n",
      "Epoch 58/100\n",
      "1000/1000 [==============================] - 4s 4ms/step - loss: 0.0114 - acc: 1.0000\n",
      "Epoch 59/100\n",
      "1000/1000 [==============================] - 4s 4ms/step - loss: 0.0110 - acc: 1.0000\n",
      "Epoch 60/100\n",
      "1000/1000 [==============================] - 4s 4ms/step - loss: 0.0108 - acc: 1.0000\n",
      "Epoch 61/100\n",
      "1000/1000 [==============================] - 5s 5ms/step - loss: 0.0099 - acc: 1.0000\n",
      "Epoch 62/100\n",
      "1000/1000 [==============================] - 4s 4ms/step - loss: 0.0100 - acc: 1.0000\n",
      "Epoch 63/100\n",
      "1000/1000 [==============================] - 4s 4ms/step - loss: 0.0101 - acc: 1.0000\n",
      "Epoch 64/100\n",
      "1000/1000 [==============================] - 4s 4ms/step - loss: 0.0086 - acc: 1.0000\n",
      "Epoch 65/100\n",
      "1000/1000 [==============================] - 4s 4ms/step - loss: 0.0087 - acc: 1.0000\n",
      "Epoch 66/100\n",
      "1000/1000 [==============================] - 4s 4ms/step - loss: 0.0091 - acc: 1.0000\n",
      "Epoch 67/100\n",
      "1000/1000 [==============================] - 4s 4ms/step - loss: 0.0079 - acc: 1.0000\n",
      "Epoch 68/100\n",
      "1000/1000 [==============================] - 4s 4ms/step - loss: 0.0081 - acc: 1.0000\n",
      "Epoch 69/100\n",
      "1000/1000 [==============================] - 4s 4ms/step - loss: 0.0074 - acc: 1.0000\n",
      "Epoch 70/100\n",
      "1000/1000 [==============================] - 4s 4ms/step - loss: 0.0071 - acc: 1.0000\n",
      "Epoch 71/100\n",
      "1000/1000 [==============================] - 5s 5ms/step - loss: 0.0067 - acc: 1.0000\n",
      "Epoch 72/100\n",
      "1000/1000 [==============================] - 4s 4ms/step - loss: 0.0063 - acc: 1.0000\n",
      "Epoch 73/100\n",
      "1000/1000 [==============================] - 4s 4ms/step - loss: 0.0066 - acc: 1.0000\n",
      "Epoch 74/100\n",
      "1000/1000 [==============================] - 4s 4ms/step - loss: 0.0063 - acc: 1.0000\n",
      "Epoch 75/100\n",
      "1000/1000 [==============================] - 4s 4ms/step - loss: 0.0059 - acc: 1.0000\n",
      "Epoch 76/100\n",
      "1000/1000 [==============================] - 4s 4ms/step - loss: 0.0061 - acc: 1.0000\n",
      "Epoch 77/100\n",
      "1000/1000 [==============================] - 4s 4ms/step - loss: 0.0056 - acc: 1.0000\n",
      "Epoch 78/100\n",
      "1000/1000 [==============================] - 4s 4ms/step - loss: 0.0051 - acc: 1.0000\n",
      "Epoch 79/100\n",
      "1000/1000 [==============================] - 5s 5ms/step - loss: 0.0052 - acc: 1.0000\n",
      "Epoch 80/100\n",
      "1000/1000 [==============================] - 4s 4ms/step - loss: 0.0052 - acc: 1.0000\n",
      "Epoch 81/100\n",
      "1000/1000 [==============================] - 4s 4ms/step - loss: 0.0046 - acc: 1.0000\n",
      "Epoch 82/100\n",
      "1000/1000 [==============================] - 4s 4ms/step - loss: 0.0046 - acc: 1.0000\n",
      "Epoch 83/100\n"
     ]
    },
    {
     "name": "stdout",
     "output_type": "stream",
     "text": [
      "1000/1000 [==============================] - 3s 3ms/step - loss: 0.0043 - acc: 1.0000\n",
      "Epoch 84/100\n",
      "1000/1000 [==============================] - 3s 3ms/step - loss: 0.0042 - acc: 1.0000\n",
      "Epoch 85/100\n",
      "1000/1000 [==============================] - 4s 4ms/step - loss: 0.0041 - acc: 1.0000\n",
      "Epoch 86/100\n",
      "1000/1000 [==============================] - 3s 3ms/step - loss: 0.0041 - acc: 1.0000\n",
      "Epoch 87/100\n",
      "1000/1000 [==============================] - 4s 4ms/step - loss: 0.0038 - acc: 1.0000\n",
      "Epoch 88/100\n",
      "1000/1000 [==============================] - 4s 4ms/step - loss: 0.0038 - acc: 1.0000\n",
      "Epoch 89/100\n",
      "1000/1000 [==============================] - 3s 3ms/step - loss: 0.0036 - acc: 1.0000\n",
      "Epoch 90/100\n",
      "1000/1000 [==============================] - 3s 3ms/step - loss: 0.0037 - acc: 1.0000\n",
      "Epoch 91/100\n",
      "1000/1000 [==============================] - 4s 4ms/step - loss: 0.0034 - acc: 1.0000\n",
      "Epoch 92/100\n",
      "1000/1000 [==============================] - 4s 4ms/step - loss: 0.0033 - acc: 1.0000\n",
      "Epoch 93/100\n",
      "1000/1000 [==============================] - 4s 4ms/step - loss: 0.0032 - acc: 1.0000\n",
      "Epoch 94/100\n",
      "1000/1000 [==============================] - 4s 4ms/step - loss: 0.0031 - acc: 1.0000\n",
      "Epoch 95/100\n",
      "1000/1000 [==============================] - 4s 4ms/step - loss: 0.0034 - acc: 1.0000\n",
      "Epoch 96/100\n",
      "1000/1000 [==============================] - 4s 4ms/step - loss: 0.0030 - acc: 1.0000\n",
      "Epoch 97/100\n",
      "1000/1000 [==============================] - 4s 4ms/step - loss: 0.0034 - acc: 1.0000\n",
      "Epoch 98/100\n",
      "1000/1000 [==============================] - 5s 5ms/step - loss: 0.0028 - acc: 1.0000\n",
      "Epoch 99/100\n",
      "1000/1000 [==============================] - 4s 4ms/step - loss: 0.0030 - acc: 1.0000\n",
      "Epoch 100/100\n",
      "1000/1000 [==============================] - 4s 4ms/step - loss: 0.0026 - acc: 1.0000\n"
     ]
    }
   ],
   "source": [
    "history = model3.fit(X_train, Y_train, epochs=100) "
   ]
  },
  {
   "cell_type": "markdown",
   "metadata": {},
   "source": [
    "On a alors une accuracy de 100%, ce qui est bien mieux, on peut alors plot la loss:"
   ]
  },
  {
   "cell_type": "code",
   "execution_count": 99,
   "metadata": {},
   "outputs": [
    {
     "data": {
      "image/png": "[encoded data removed]",
      "text/plain": [
       "<Figure size 432x288 with 1 Axes>"
      ]
     },
     "metadata": {},
     "output_type": "display_data"
    }
   ],
   "source": [
    "plt.plot(history.history['loss'])\n",
    "plt.title('loss minimization with adam')\n",
    "plt.show()"
   ]
  },
  {
   "cell_type": "markdown",
   "metadata": {},
   "source": [
    "On peut alors tester sur un nouveau dataset:"
   ]
  },
  {
   "cell_type": "code",
   "execution_count": 102,
   "metadata": {},
   "outputs": [
    {
     "name": "stdout",
     "output_type": "stream",
     "text": [
      "Creating data:\n",
      "300/300 [==============================] - 1s 2ms/step60 170 180 190 200 210 220 230 240 250 260 \n"
     ]
    },
    {
     "data": {
      "text/plain": [
       "[0.36658350586891175, 0.8833333325386047]"
      ]
     },
     "execution_count": 102,
     "metadata": {},
     "output_type": "execute_result"
    }
   ],
   "source": [
    "[X_test, Y_test] = generate_test_set_classification()\n",
    "Y_test = to_categorical(Y_test, 3)\n",
    "X_test = X_test.reshape(X_test.shape[0],72,72,1)\n",
    "model3.evaluate(X_test, Y_test)"
   ]
  },
  {
   "cell_type": "markdown",
   "metadata": {},
   "source": [
    "On a une accuracy de 88% sur le test_set, ce qui est satisfaisant. Le reseaux a donc un bonne capacité a géneraliser."
   ]
  },
  {
   "cell_type": "markdown",
   "metadata": {},
   "source": [
    "## 6/"
   ]
  },
  {
   "cell_type": "markdown",
   "metadata": {},
   "source": [
    "On génère le dataset:"
   ]
  },
  {
   "cell_type": "code",
   "execution_count": 105,
   "metadata": {},
   "outputs": [
    {
     "name": "stdout",
     "output_type": "stream",
     "text": [
      "Creating data:\n",
      "0 10 20 30 40 50 60 70 80 90 100 110 120 130 140 150 160 170 180 190 200 210 220 230 240 250 260 270 280 290 300 310 320 330 340 350 360 370 380 390 400 410 420 430 440 450 460 470 480 490 500 510 520 530 540 550 560 570 580 590 600 610 620 630 640 650 660 670 680 690 700 710 720 730 740 750 760 770 780 790 800 810 820 830 840 850 860 870 880 890 900 910 920 930 940 950 960 970 980 990 "
     ]
    }
   ],
   "source": [
    "[X_train, Y_train] = generate_dataset_regression(1000, 20)\n"
   ]
  },
  {
   "cell_type": "markdown",
   "metadata": {},
   "source": [
    "On normalise Y en triant les sommet de gauche à droite:"
   ]
  },
  {
   "cell_type": "code",
   "execution_count": 106,
   "metadata": {},
   "outputs": [],
   "source": [
    "def normalize(Y_train):\n",
    "    Y_train_norm = []\n",
    "    for y in Y_train:\n",
    "        y = y.reshape((3,2))\n",
    "        y = sorted(y,key=lambda y: y.T[0])\n",
    "        y = np.ravel(y)\n",
    "        Y_train_norm.append(y)\n",
    "    Y_train_norm = np.array(Y_train_norm)\n",
    "    return Y_train_norm\n",
    "\n",
    "    "
   ]
  },
  {
   "cell_type": "code",
   "execution_count": 107,
   "metadata": {},
   "outputs": [],
   "source": [
    "X_train = X_train.reshape(X_train.shape[0],72,72,1)\n",
    "Y_train = normalize(Y_train)\n"
   ]
  },
  {
   "cell_type": "markdown",
   "metadata": {},
   "source": [
    "Ensuite on peut définir l'architecture, J'ai choisi d'alterner des couches de convolution et de max_pooling. Puis je termine par des couches denses (la dernière a 6 neurones car y est de taille 6)"
   ]
  },
  {
   "cell_type": "code",
   "execution_count": 111,
   "metadata": {},
   "outputs": [],
   "source": [
    "model4 = Sequential()\n",
    "model4.add(Conv2D(16,(5,5), activation='relu', input_shape = (72,72,1)))\n",
    "model4.add(MaxPooling2D(pool_size=(2,2)))\n",
    "model4.add(Conv2D(32,(5,5), activation='relu', input_shape = (34,34,16)))\n",
    "model4.add(MaxPooling2D(pool_size=(2,2)))\n",
    "model4.add(Conv2D(64,(5,5), activation='relu', input_shape = (15,15,32)))\n",
    "model4.add(MaxPooling2D(pool_size=(2,2)))\n",
    "model4.add(Flatten())\n",
    "model4.add(Dense(128, activation='relu' ))\n",
    "model4.add(Dense(6, activation='relu')) "
   ]
  },
  {
   "cell_type": "markdown",
   "metadata": {},
   "source": [
    "On utilise une loss de type 'mean square error':"
   ]
  },
  {
   "cell_type": "code",
   "execution_count": 112,
   "metadata": {},
   "outputs": [],
   "source": [
    "adam = optimizers.Adam(lr = 1e-4)\n",
    "model4.compile(loss = 'mse', optimizer = adam)\n"
   ]
  },
  {
   "cell_type": "markdown",
   "metadata": {},
   "source": [
    "On peut alors lancer le training:"
   ]
  },
  {
   "cell_type": "code",
   "execution_count": 114,
   "metadata": {},
   "outputs": [
    {
     "name": "stdout",
     "output_type": "stream",
     "text": [
      "Epoch 1/100\n",
      "1000/1000 [==============================] - 19s 19ms/step - loss: 0.1192\n",
      "Epoch 2/100\n",
      "1000/1000 [==============================] - 21s 21ms/step - loss: 0.0695\n",
      "Epoch 3/100\n",
      "1000/1000 [==============================] - 20s 20ms/step - loss: 0.0588\n",
      "Epoch 4/100\n",
      "1000/1000 [==============================] - 21s 21ms/step - loss: 0.0501\n",
      "Epoch 5/100\n",
      "1000/1000 [==============================] - 21s 21ms/step - loss: 0.0364\n",
      "Epoch 6/100\n",
      "1000/1000 [==============================] - 22s 22ms/step - loss: 0.0298\n",
      "Epoch 7/100\n",
      "1000/1000 [==============================] - 22s 22ms/step - loss: 0.0267\n",
      "Epoch 8/100\n",
      "1000/1000 [==============================] - 21s 21ms/step - loss: 0.0244\n",
      "Epoch 9/100\n",
      "1000/1000 [==============================] - 22s 22ms/step - loss: 0.0224\n",
      "Epoch 10/100\n",
      "1000/1000 [==============================] - 24s 24ms/step - loss: 0.0210\n",
      "Epoch 11/100\n",
      "1000/1000 [==============================] - 23s 23ms/step - loss: 0.0192\n",
      "Epoch 12/100\n",
      "1000/1000 [==============================] - 21s 21ms/step - loss: 0.0177\n",
      "Epoch 13/100\n",
      "1000/1000 [==============================] - 21s 21ms/step - loss: 0.0167\n",
      "Epoch 14/100\n",
      "1000/1000 [==============================] - 22s 22ms/step - loss: 0.0161\n",
      "Epoch 15/100\n",
      "1000/1000 [==============================] - 24s 24ms/step - loss: 0.0151\n",
      "Epoch 16/100\n",
      "1000/1000 [==============================] - 25s 25ms/step - loss: 0.0145\n",
      "Epoch 17/100\n",
      "1000/1000 [==============================] - 26s 26ms/step - loss: 0.0136\n",
      "Epoch 18/100\n",
      "1000/1000 [==============================] - 22s 22ms/step - loss: 0.0133\n",
      "Epoch 19/100\n",
      "1000/1000 [==============================] - 22s 22ms/step - loss: 0.0126\n",
      "Epoch 20/100\n",
      "1000/1000 [==============================] - 22s 22ms/step - loss: 0.0120\n",
      "Epoch 21/100\n",
      "1000/1000 [==============================] - 21s 21ms/step - loss: 0.0112\n",
      "Epoch 22/100\n",
      "1000/1000 [==============================] - 20s 20ms/step - loss: 0.0107\n",
      "Epoch 23/100\n",
      "1000/1000 [==============================] - 21s 21ms/step - loss: 0.0104\n",
      "Epoch 24/100\n",
      "1000/1000 [==============================] - 21s 21ms/step - loss: 0.0101\n",
      "Epoch 25/100\n",
      "1000/1000 [==============================] - 19s 19ms/step - loss: 0.0099\n",
      "Epoch 26/100\n",
      "1000/1000 [==============================] - 20s 20ms/step - loss: 0.0098\n",
      "Epoch 27/100\n",
      "1000/1000 [==============================] - 21s 21ms/step - loss: 0.0095\n",
      "Epoch 28/100\n",
      "1000/1000 [==============================] - 20s 20ms/step - loss: 0.0092\n",
      "Epoch 29/100\n",
      "1000/1000 [==============================] - 21s 21ms/step - loss: 0.0087\n",
      "Epoch 30/100\n",
      "1000/1000 [==============================] - 25s 25ms/step - loss: 0.0082\n",
      "Epoch 31/100\n",
      "1000/1000 [==============================] - 23s 23ms/step - loss: 0.0082\n",
      "Epoch 32/100\n",
      "1000/1000 [==============================] - 22s 22ms/step - loss: 0.0078\n",
      "Epoch 33/100\n",
      "1000/1000 [==============================] - 21s 21ms/step - loss: 0.0077\n",
      "Epoch 34/100\n",
      "1000/1000 [==============================] - 23s 23ms/step - loss: 0.0074\n",
      "Epoch 35/100\n",
      "1000/1000 [==============================] - 22s 22ms/step - loss: 0.0073\n",
      "Epoch 36/100\n",
      "1000/1000 [==============================] - 23s 23ms/step - loss: 0.0070\n",
      "Epoch 37/100\n",
      "1000/1000 [==============================] - 20s 20ms/step - loss: 0.0071\n",
      "Epoch 38/100\n",
      "1000/1000 [==============================] - 20s 20ms/step - loss: 0.0069\n",
      "Epoch 39/100\n",
      "1000/1000 [==============================] - 20s 20ms/step - loss: 0.0067\n",
      "Epoch 40/100\n",
      "1000/1000 [==============================] - 21s 21ms/step - loss: 0.0062\n",
      "Epoch 41/100\n",
      "1000/1000 [==============================] - 21s 21ms/step - loss: 0.0064\n",
      "Epoch 42/100\n",
      "1000/1000 [==============================] - 20s 20ms/step - loss: 0.0063\n",
      "Epoch 43/100\n",
      "1000/1000 [==============================] - 19s 19ms/step - loss: 0.0057\n",
      "Epoch 44/100\n",
      "1000/1000 [==============================] - 22s 22ms/step - loss: 0.0060\n",
      "Epoch 45/100\n",
      "1000/1000 [==============================] - 21s 21ms/step - loss: 0.0055\n",
      "Epoch 46/100\n",
      "1000/1000 [==============================] - 21s 21ms/step - loss: 0.0053\n",
      "Epoch 47/100\n",
      "1000/1000 [==============================] - 21s 21ms/step - loss: 0.0052\n",
      "Epoch 48/100\n",
      "1000/1000 [==============================] - 22s 22ms/step - loss: 0.0049\n",
      "Epoch 49/100\n",
      "1000/1000 [==============================] - 21s 21ms/step - loss: 0.0051\n",
      "Epoch 50/100\n",
      "1000/1000 [==============================] - 20s 20ms/step - loss: 0.0046\n",
      "Epoch 51/100\n",
      "1000/1000 [==============================] - 20s 20ms/step - loss: 0.0046\n",
      "Epoch 52/100\n",
      "1000/1000 [==============================] - 24s 24ms/step - loss: 0.0044\n",
      "Epoch 53/100\n",
      "1000/1000 [==============================] - 21s 21ms/step - loss: 0.0045\n",
      "Epoch 54/100\n",
      "1000/1000 [==============================] - 21s 21ms/step - loss: 0.0043\n",
      "Epoch 55/100\n",
      "1000/1000 [==============================] - 22s 22ms/step - loss: 0.0047\n",
      "Epoch 56/100\n",
      "1000/1000 [==============================] - 23s 23ms/step - loss: 0.0043\n",
      "Epoch 57/100\n",
      "1000/1000 [==============================] - 21s 21ms/step - loss: 0.0039\n",
      "Epoch 58/100\n",
      "1000/1000 [==============================] - 21s 21ms/step - loss: 0.0039\n",
      "Epoch 59/100\n",
      "1000/1000 [==============================] - 21s 21ms/step - loss: 0.0038\n",
      "Epoch 60/100\n",
      "1000/1000 [==============================] - 21s 21ms/step - loss: 0.0036\n",
      "Epoch 61/100\n",
      "1000/1000 [==============================] - 21s 21ms/step - loss: 0.0038\n",
      "Epoch 62/100\n",
      "1000/1000 [==============================] - 19s 19ms/step - loss: 0.0035\n",
      "Epoch 63/100\n",
      "1000/1000 [==============================] - 20s 20ms/step - loss: 0.0033\n",
      "Epoch 64/100\n",
      "1000/1000 [==============================] - 20s 20ms/step - loss: 0.0032\n",
      "Epoch 65/100\n",
      "1000/1000 [==============================] - 19s 19ms/step - loss: 0.0033\n",
      "Epoch 66/100\n",
      "1000/1000 [==============================] - 20s 20ms/step - loss: 0.0033\n",
      "Epoch 67/100\n",
      "1000/1000 [==============================] - 20s 20ms/step - loss: 0.0031\n",
      "Epoch 68/100\n",
      "1000/1000 [==============================] - 19s 19ms/step - loss: 0.0030\n",
      "Epoch 69/100\n",
      "1000/1000 [==============================] - 20s 20ms/step - loss: 0.0028\n",
      "Epoch 70/100\n",
      "1000/1000 [==============================] - 20s 20ms/step - loss: 0.0029\n",
      "Epoch 71/100\n",
      "1000/1000 [==============================] - 20s 20ms/step - loss: 0.0030\n",
      "Epoch 72/100\n",
      "1000/1000 [==============================] - 19s 19ms/step - loss: 0.0026\n",
      "Epoch 73/100\n",
      "1000/1000 [==============================] - 20s 20ms/step - loss: 0.0025\n",
      "Epoch 74/100\n",
      "1000/1000 [==============================] - 20s 20ms/step - loss: 0.0024\n",
      "Epoch 75/100\n",
      "1000/1000 [==============================] - 20s 20ms/step - loss: 0.0025\n",
      "Epoch 76/100\n",
      "1000/1000 [==============================] - 20s 20ms/step - loss: 0.0025\n",
      "Epoch 77/100\n",
      "1000/1000 [==============================] - 20s 20ms/step - loss: 0.0024\n",
      "Epoch 78/100\n",
      "1000/1000 [==============================] - 21s 21ms/step - loss: 0.0023\n",
      "Epoch 79/100\n",
      "1000/1000 [==============================] - 22s 22ms/step - loss: 0.0022\n",
      "Epoch 80/100\n",
      "1000/1000 [==============================] - 20s 20ms/step - loss: 0.0021\n",
      "Epoch 81/100\n",
      "1000/1000 [==============================] - 20s 20ms/step - loss: 0.0021\n",
      "Epoch 82/100\n",
      "1000/1000 [==============================] - 20s 20ms/step - loss: 0.0021\n",
      "Epoch 83/100\n",
      "1000/1000 [==============================] - 20s 20ms/step - loss: 0.0021\n",
      "Epoch 84/100\n",
      "1000/1000 [==============================] - 21s 21ms/step - loss: 0.0020\n",
      "Epoch 85/100\n",
      "1000/1000 [==============================] - 24s 24ms/step - loss: 0.0019\n",
      "Epoch 86/100\n",
      "1000/1000 [==============================] - 21s 21ms/step - loss: 0.0018\n",
      "Epoch 87/100\n",
      "1000/1000 [==============================] - 21s 21ms/step - loss: 0.0018\n",
      "Epoch 88/100\n",
      "1000/1000 [==============================] - 20s 20ms/step - loss: 0.0018\n",
      "Epoch 89/100\n",
      "1000/1000 [==============================] - 21s 21ms/step - loss: 0.0017\n",
      "Epoch 90/100\n",
      "1000/1000 [==============================] - 20s 20ms/step - loss: 0.0017\n",
      "Epoch 91/100\n",
      "1000/1000 [==============================] - 20s 20ms/step - loss: 0.0018\n",
      "Epoch 92/100\n",
      "1000/1000 [==============================] - 21s 21ms/step - loss: 0.0017\n",
      "Epoch 93/100\n",
      "1000/1000 [==============================] - 22s 22ms/step - loss: 0.0018\n",
      "Epoch 94/100\n",
      "1000/1000 [==============================] - 20s 20ms/step - loss: 0.0016\n",
      "Epoch 95/100\n"
     ]
    },
    {
     "name": "stdout",
     "output_type": "stream",
     "text": [
      "1000/1000 [==============================] - 19s 19ms/step - loss: 0.0015\n",
      "Epoch 96/100\n",
      "1000/1000 [==============================] - 20s 20ms/step - loss: 0.0016\n",
      "Epoch 97/100\n",
      "1000/1000 [==============================] - 20s 20ms/step - loss: 0.0015\n",
      "Epoch 98/100\n",
      "1000/1000 [==============================] - 20s 20ms/step - loss: 0.0014\n",
      "Epoch 99/100\n",
      "1000/1000 [==============================] - 20s 20ms/step - loss: 0.0014\n",
      "Epoch 100/100\n",
      "1000/1000 [==============================] - 20s 20ms/step - loss: 0.0014\n"
     ]
    }
   ],
   "source": [
    "history = model4.fit(X_train, Y_train, batch_size = 32, epochs=100) "
   ]
  },
  {
   "cell_type": "code",
   "execution_count": 115,
   "metadata": {},
   "outputs": [
    {
     "data": {
      "image/png": "[encoded data removed]",
      "text/plain": [
       "<Figure size 432x288 with 1 Axes>"
      ]
     },
     "metadata": {},
     "output_type": "display_data"
    }
   ],
   "source": [
    "plt.plot(history.history['loss'])\n",
    "plt.title('loss minimization with adam')\n",
    "plt.show()"
   ]
  },
  {
   "cell_type": "markdown",
   "metadata": {},
   "source": [
    "On peut alors tester sur un nouveau dataset:"
   ]
  },
  {
   "cell_type": "code",
   "execution_count": 116,
   "metadata": {},
   "outputs": [
    {
     "name": "stdout",
     "output_type": "stream",
     "text": [
      "Creating data:\n",
      "0 10 20 30 40 50 60 70 80 90 100 110 120 130 140 150 160 170 180 190 200 210 220 230 240 250 260 270 280 290 "
     ]
    }
   ],
   "source": [
    "[X_test, Y_test] = generate_test_set_regression()"
   ]
  },
  {
   "cell_type": "code",
   "execution_count": 117,
   "metadata": {},
   "outputs": [],
   "source": [
    "X_test = X_test.reshape(X_test.shape[0],72,72,1)\n",
    "Y_test = normalize(Y_test)\n"
   ]
  },
  {
   "cell_type": "code",
   "execution_count": 118,
   "metadata": {},
   "outputs": [],
   "source": [
    "result = model3.predict(X_test)"
   ]
  },
  {
   "cell_type": "code",
   "execution_count": 119,
   "metadata": {},
   "outputs": [
    {
     "data": {
      "image/png": "[encoded data removed]",
      "text/plain": [
       "<Figure size 360x360 with 1 Axes>"
      ]
     },
     "metadata": {},
     "output_type": "display_data"
    },
    {
     "data": {
      "image/png": "[encoded data removed]",
      "text/plain": [
       "<Figure size 360x360 with 1 Axes>"
      ]
     },
     "metadata": {},
     "output_type": "display_data"
    },
    {
     "data": {
      "image/png": "[encoded data removed]",
      "text/plain": [
       "<Figure size 360x360 with 1 Axes>"
      ]
     },
     "metadata": {},
     "output_type": "display_data"
    },
    {
     "data": {
      "image/png": "[encoded data removed]",
      "text/plain": [
       "<Figure size 360x360 with 1 Axes>"
      ]
     },
     "metadata": {},
     "output_type": "display_data"
    },
    {
     "data": {
      "image/png": "[encoded data removed]",
      "text/plain": [
       "<Figure size 360x360 with 1 Axes>"
      ]
     },
     "metadata": {},
     "output_type": "display_data"
    },
    {
     "data": {
      "image/png": "[encoded data removed]",
      "text/plain": [
       "<Figure size 360x360 with 1 Axes>"
      ]
     },
     "metadata": {},
     "output_type": "display_data"
    },
    {
     "data": {
      "image/png": "[encoded data removed]",
      "text/plain": [
       "<Figure size 360x360 with 1 Axes>"
      ]
     },
     "metadata": {},
     "output_type": "display_data"
    },
    {
     "data": {
      "image/png": "[encoded data removed]",
      "text/plain": [
       "<Figure size 360x360 with 1 Axes>"
      ]
     },
     "metadata": {},
     "output_type": "display_data"
    },
    {
     "data": {
      "image/png": "[encoded data removed]",
      "text/plain": [
       "<Figure size 360x360 with 1 Axes>"
      ]
     },
     "metadata": {},
     "output_type": "display_data"
    },
    {
     "data": {
      "image/png": "[encoded data removed]",
      "text/plain": [
       "<Figure size 360x360 with 1 Axes>"
      ]
     },
     "metadata": {},
     "output_type": "display_data"
    }
   ],
   "source": [
    "for k in range(10):\n",
    "    mp1.visualize_prediction(X_test[k], result[k]) "
   ]
  },
  {
   "cell_type": "markdown",
   "metadata": {},
   "source": [
    "Ca ne marche pas du tout\n"
   ]
  }
 ],
 "metadata": {
  "kernelspec": {
   "display_name": "Python 3",
   "language": "python",
   "name": "python3"
  },
  "language_info": {
   "codemirror_mode": {
    "name": "ipython",
    "version": 3
   },
   "file_extension": ".py",
   "mimetype": "text/x-python",
   "name": "python",
   "nbconvert_exporter": "python",
   "pygments_lexer": "ipython3",
   "version": "3.6.4"
  }
 },
 "nbformat": 4,
 "nbformat_minor": 2
}
